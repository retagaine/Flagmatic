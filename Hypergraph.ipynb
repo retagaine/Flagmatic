{
 "cells": [
  {
   "cell_type": "code",
   "execution_count": 1,
   "metadata": {},
   "outputs": [
    {
     "name": "stderr",
     "output_type": "stream",
     "text": [
      "/Applications/SageMath/local/lib/python2.7/site-packages/sage/repl/ipython_kernel/__main__.py:1: DeprecationWarning: the file \"cdefs.pxi\" is deprecated, cimport the functions that you need\n",
      "See http://trac.sagemath.org/23855 for details.\n",
      "  from ipykernel.kernelapp import IPKernelApp\n"
     ]
    }
   ],
   "source": [
    "from flagmatic.all import *"
   ]
  },
  {
   "cell_type": "code",
   "execution_count": 11,
   "metadata": {},
   "outputs": [
    {
     "name": "stdout",
     "output_type": "stream",
     "text": [
      "Forbidding 6:122334455661 as an induced subgraph.\n",
      "Generating graphs...\n",
      "Generated 34 graphs.\n",
      "Generating types and flags...\n",
      "Generated 1 types of order 1, with [6] flags of order 3.\n",
      "Generated 4 types of order 3, with [8, 8, 8, 8] flags of order 4.\n",
      "Computing products.....\n",
      "Writing SDP input file...\n",
      "Running SDP solver...\n",
      "Returncode is 0. Objective value is 1.0.\n",
      "Checking numerical bound...\n"
     ]
    }
   ],
   "source": [
    "C6 = GraphFlag(\"6:122334455661\")\n",
    "problem = GraphProblem(5, forbid_induced=C6)\n",
    "problem.solve_sdp()"
   ]
  },
  {
   "cell_type": "code",
   "execution_count": 20,
   "metadata": {},
   "outputs": [
    {
     "name": "stdout",
     "output_type": "stream",
     "text": [
      "Forbidding 5-sets from spanning exactly 5 edges.\n",
      "Generating graphs...\n",
      "Generated 5 graphs.\n",
      "Generating types and flags...\n",
      "Generated 1 types of order 1, with [1] flags of order 3.\n",
      "Generated 1 types of order 3, with [2] flags of order 4.\n",
      "Computing products..\n",
      "Writing SDP input file...\n",
      "Running SDP solver...\n",
      "Returncode is 0. Objective value is 0.75.\n",
      "Checking numerical bound...\n"
     ]
    }
   ],
   "source": [
    "problem = Problem(HypergraphFlag, 5, forbid_induced=(5,5))\n",
    "problem.solve_sdp()"
   ]
  },
  {
   "cell_type": "code",
   "execution_count": 28,
   "metadata": {},
   "outputs": [
    {
     "name": "stdout",
     "output_type": "stream",
     "text": [
      "Forbidding 4:1234234134124123 as an induced subgraph.\n",
      "Generating graphs...\n",
      "Generated 2 graphs.\n",
      "Generating types and flags...\n",
      "Generated 1 types of order 0, with [1] flags of order 2.\n",
      "Generated 1 types of order 2, with [1] flags of order 3.\n",
      "Computing products..\n",
      "Writing SDP input file...\n",
      "Running SDP solver...\n",
      "Returncode is 0. Objective value is 1.0.\n",
      "Checking numerical bound...\n"
     ]
    }
   ],
   "source": [
    "C44 = HypergraphFlag(\"4:1234234134124123\", r=4)\n",
    "problem = Problem(HypergraphFlag, 4, forbid_induced=C44)\n",
    "problem.solve_sdp()"
   ]
  },
  {
   "cell_type": "code",
   "execution_count": 68,
   "metadata": {},
   "outputs": [
    {
     "name": "stdout",
     "output_type": "stream",
     "text": [
      "Forbidding 6-sets from spanning exactly 6 edges.\n",
      "Generating graphs...\n",
      "Generated 135 graphs.\n",
      "Generating types and flags...\n",
      "Generated 1 types of order 0, with [1] flags of order 3.\n",
      "Generated 1 types of order 2, with [2] flags of order 4.\n",
      "Generated 2 types of order 4, with [16, 16] flags of order 5.\n",
      "Computing products....\n",
      "Writing SDP input file...\n",
      "Running SDP solver...\n",
      "Returncode is 0. Objective value is 1.0.\n",
      "Checking numerical bound...\n"
     ]
    }
   ],
   "source": [
    "problem = Problem(HypergraphFlag, 6, forbid_induced=[(6,6)])\n",
    "problem.solve_sdp()"
   ]
  },
  {
   "cell_type": "code",
   "execution_count": 86,
   "metadata": {},
   "outputs": [
    {
     "name": "stdout",
     "output_type": "stream",
     "text": [
      "Generating graphs...\n",
      "Generated 156 graphs.\n",
      "Generating types and flags...\n",
      "Generated 1 types of order 0, with [4] flags of order 3.\n",
      "Generated 2 types of order 2, with [20, 20] flags of order 4.\n",
      "Generated 11 types of order 4, with [16, 16, 16, 16, 16, 16, 16, 16, 16, 16, 16] flags of order 5.\n",
      "Computing products..............\n",
      "Writing SDP input file...\n",
      "Running SDP solver...\n",
      "Returncode is 0. Objective value is 0.57656429.\n",
      "Checking numerical bound...\n",
      "No target bound to meet.\n",
      "Rounding matrices..............\n",
      "Bound is 302459/524288 (0.5768947601).\n"
     ]
    }
   ],
   "source": [
    "problem = GraphProblem(6, density=\"4:1223241314\")\n",
    "problem.solve_sdp()\n",
    "problem.make_exact()"
   ]
  },
  {
   "cell_type": "code",
   "execution_count": 102,
   "metadata": {},
   "outputs": [
    {
     "name": "stdout",
     "output_type": "stream",
     "text": [
      "Forbidding 5:12342345345145125123 as an induced subgraph.\n",
      "Generating graphs...\n",
      "Generated 5 graphs.\n",
      "Generating types and flags...\n",
      "Generated 1 types of order 1, with [1] flags of order 3.\n",
      "Generated 1 types of order 3, with [2] flags of order 4.\n",
      "Computing products..\n",
      "Writing SDP input file...\n",
      "Running SDP solver...\n",
      "Returncode is 0. Objective value is 0.75.\n",
      "Checking numerical bound...\n"
     ]
    },
    {
     "data": {
      "text/plain": [
       "0.7500000005206312"
      ]
     },
     "execution_count": 102,
     "metadata": {},
     "output_type": "execute_result"
    }
   ],
   "source": [
    "problem = Problem(HypergraphFlag, 5, forbid_induced=HypergraphFlag(\"5:12342345345145125123\"))\n",
    "problem.solve_sdp()\n",
    "problem._sdp_bounds[-1]"
   ]
  },
  {
   "cell_type": "code",
   "execution_count": 25,
   "metadata": {},
   "outputs": [
    {
     "name": "stdout",
     "output_type": "stream",
     "text": [
      "Forbidding 5:1234 as an induced subgraph.\n",
      "Generating graphs...\n",
      "Generated 5 graphs.\n",
      "Generating types and flags...\n",
      "Generated 1 types of order 1, with [1] flags of order 3.\n",
      "Generated 1 types of order 3, with [2] flags of order 4.\n",
      "Computing products..\n",
      "Writing SDP input file...\n",
      "Running SDP solver...\n",
      "Returncode is 0. Objective value is 1.0.\n",
      "Checking numerical bound...\n",
      "Forbidding 5:1235 as an induced subgraph.\n",
      "Generating graphs...\n",
      "Generated 5 graphs.\n",
      "Generating types and flags...\n",
      "Generated 1 types of order 1, with [1] flags of order 3.\n",
      "Generated 1 types of order 3, with [2] flags of order 4.\n",
      "Computing products..\n",
      "Writing SDP input file...\n",
      "Running SDP solver...\n",
      "Returncode is 0. Objective value is 1.0.\n",
      "Checking numerical bound...\n",
      "Forbidding 5:1245 as an induced subgraph.\n",
      "Generating graphs...\n",
      "Generated 5 graphs.\n",
      "Generating types and flags...\n",
      "Generated 1 types of order 1, with [1] flags of order 3.\n",
      "Generated 1 types of order 3, with [2] flags of order 4.\n",
      "Computing products..\n",
      "Writing SDP input file...\n",
      "Running SDP solver...\n",
      "Returncode is 0. Objective value is 1.0.\n",
      "Checking numerical bound...\n",
      "Forbidding 5:1345 as an induced subgraph.\n",
      "Generating graphs...\n",
      "Generated 5 graphs.\n",
      "Generating types and flags...\n",
      "Generated 1 types of order 1, with [1] flags of order 3.\n",
      "Generated 1 types of order 3, with [2] flags of order 4.\n",
      "Computing products..\n",
      "Writing SDP input file...\n",
      "Running SDP solver...\n",
      "Returncode is 0. Objective value is 1.0.\n",
      "Checking numerical bound...\n",
      "Forbidding 5:2345 as an induced subgraph.\n",
      "Generating graphs...\n",
      "Generated 5 graphs.\n",
      "Generating types and flags...\n",
      "Generated 1 types of order 1, with [1] flags of order 3.\n",
      "Generated 1 types of order 3, with [2] flags of order 4.\n",
      "Computing products..\n",
      "Writing SDP input file...\n",
      "Running SDP solver...\n",
      "Returncode is 0. Objective value is 1.0.\n",
      "Checking numerical bound...\n",
      "Forbidding 5:12341235 as an induced subgraph.\n",
      "Generating graphs...\n",
      "Generated 5 graphs.\n",
      "Generating types and flags...\n",
      "Generated 1 types of order 1, with [1] flags of order 3.\n",
      "Generated 1 types of order 3, with [2] flags of order 4.\n",
      "Computing products..\n",
      "Writing SDP input file...\n",
      "Running SDP solver...\n",
      "Returncode is 0. Objective value is 1.0.\n",
      "Checking numerical bound...\n",
      "Forbidding 5:12341245 as an induced subgraph.\n",
      "Generating graphs...\n",
      "Generated 5 graphs.\n",
      "Generating types and flags...\n",
      "Generated 1 types of order 1, with [1] flags of order 3.\n",
      "Generated 1 types of order 3, with [2] flags of order 4.\n",
      "Computing products..\n",
      "Writing SDP input file...\n",
      "Running SDP solver...\n",
      "Returncode is 0. Objective value is 1.0.\n",
      "Checking numerical bound...\n",
      "Forbidding 5:12341345 as an induced subgraph.\n",
      "Generating graphs...\n",
      "Generated 5 graphs.\n",
      "Generating types and flags...\n",
      "Generated 1 types of order 1, with [1] flags of order 3.\n",
      "Generated 1 types of order 3, with [2] flags of order 4.\n",
      "Computing products..\n",
      "Writing SDP input file...\n",
      "Running SDP solver...\n",
      "Returncode is 0. Objective value is 1.0.\n",
      "Checking numerical bound...\n",
      "Forbidding 5:12342345 as an induced subgraph.\n",
      "Generating graphs...\n",
      "Generated 5 graphs.\n",
      "Generating types and flags...\n",
      "Generated 1 types of order 1, with [1] flags of order 3.\n",
      "Generated 1 types of order 3, with [2] flags of order 4.\n",
      "Computing products..\n",
      "Writing SDP input file...\n",
      "Running SDP solver...\n",
      "Returncode is 0. Objective value is 1.0.\n",
      "Checking numerical bound...\n",
      "Forbidding 5:12351245 as an induced subgraph.\n",
      "Generating graphs...\n",
      "Generated 5 graphs.\n",
      "Generating types and flags...\n",
      "Generated 1 types of order 1, with [1] flags of order 3.\n",
      "Generated 1 types of order 3, with [2] flags of order 4.\n",
      "Computing products..\n",
      "Writing SDP input file...\n",
      "Running SDP solver...\n",
      "Returncode is 0. Objective value is 1.0.\n",
      "Checking numerical bound...\n",
      "Forbidding 5:12351345 as an induced subgraph.\n",
      "Generating graphs...\n",
      "Generated 5 graphs.\n",
      "Generating types and flags...\n",
      "Generated 1 types of order 1, with [1] flags of order 3.\n",
      "Generated 1 types of order 3, with [2] flags of order 4.\n",
      "Computing products..\n",
      "Writing SDP input file...\n",
      "Running SDP solver...\n",
      "Returncode is 0. Objective value is 1.0.\n",
      "Checking numerical bound...\n",
      "Forbidding 5:12352345 as an induced subgraph.\n",
      "Generating graphs...\n",
      "Generated 5 graphs.\n",
      "Generating types and flags...\n",
      "Generated 1 types of order 1, with [1] flags of order 3.\n",
      "Generated 1 types of order 3, with [2] flags of order 4.\n",
      "Computing products..\n",
      "Writing SDP input file...\n",
      "Running SDP solver...\n",
      "Returncode is 0. Objective value is 1.0.\n",
      "Checking numerical bound...\n",
      "Forbidding 5:12451345 as an induced subgraph.\n",
      "Generating graphs...\n",
      "Generated 5 graphs.\n",
      "Generating types and flags...\n",
      "Generated 1 types of order 1, with [1] flags of order 3.\n",
      "Generated 1 types of order 3, with [2] flags of order 4.\n",
      "Computing products..\n",
      "Writing SDP input file...\n",
      "Running SDP solver...\n",
      "Returncode is 0. Objective value is 1.0.\n",
      "Checking numerical bound...\n",
      "Forbidding 5:12452345 as an induced subgraph.\n",
      "Generating graphs...\n",
      "Generated 5 graphs.\n",
      "Generating types and flags...\n",
      "Generated 1 types of order 1, with [1] flags of order 3.\n",
      "Generated 1 types of order 3, with [2] flags of order 4.\n",
      "Computing products..\n",
      "Writing SDP input file...\n",
      "Running SDP solver...\n",
      "Returncode is 0. Objective value is 1.0.\n",
      "Checking numerical bound...\n",
      "Forbidding 5:13452345 as an induced subgraph.\n",
      "Generating graphs...\n",
      "Generated 5 graphs.\n",
      "Generating types and flags...\n",
      "Generated 1 types of order 1, with [1] flags of order 3.\n",
      "Generated 1 types of order 3, with [2] flags of order 4.\n",
      "Computing products..\n",
      "Writing SDP input file...\n",
      "Running SDP solver...\n",
      "Returncode is 0. Objective value is 1.0.\n",
      "Checking numerical bound...\n",
      "Forbidding 5:123412351245 as an induced subgraph.\n",
      "Generating graphs...\n",
      "Generated 5 graphs.\n",
      "Generating types and flags...\n",
      "Generated 1 types of order 1, with [1] flags of order 3.\n",
      "Generated 1 types of order 3, with [2] flags of order 4.\n",
      "Computing products..\n",
      "Writing SDP input file...\n",
      "Running SDP solver...\n",
      "Returncode is 0. Objective value is 1.0.\n",
      "Checking numerical bound...\n",
      "Forbidding 5:123412351345 as an induced subgraph.\n",
      "Generating graphs...\n",
      "Generated 5 graphs.\n",
      "Generating types and flags...\n",
      "Generated 1 types of order 1, with [1] flags of order 3.\n",
      "Generated 1 types of order 3, with [2] flags of order 4.\n",
      "Computing products..\n",
      "Writing SDP input file...\n",
      "Running SDP solver...\n",
      "Returncode is 0. Objective value is 1.0.\n",
      "Checking numerical bound...\n",
      "Forbidding 5:123412352345 as an induced subgraph.\n",
      "Generating graphs...\n",
      "Generated 5 graphs.\n",
      "Generating types and flags...\n",
      "Generated 1 types of order 1, with [1] flags of order 3.\n",
      "Generated 1 types of order 3, with [2] flags of order 4.\n",
      "Computing products..\n",
      "Writing SDP input file...\n",
      "Running SDP solver...\n",
      "Returncode is 0. Objective value is 1.0.\n",
      "Checking numerical bound...\n",
      "Forbidding 5:123412451345 as an induced subgraph.\n",
      "Generating graphs...\n",
      "Generated 5 graphs.\n",
      "Generating types and flags...\n",
      "Generated 1 types of order 1, with [1] flags of order 3.\n",
      "Generated 1 types of order 3, with [2] flags of order 4.\n",
      "Computing products..\n",
      "Writing SDP input file...\n",
      "Running SDP solver...\n",
      "Returncode is 0. Objective value is 1.0.\n",
      "Checking numerical bound...\n",
      "Forbidding 5:123412452345 as an induced subgraph.\n",
      "Generating graphs...\n",
      "Generated 5 graphs.\n",
      "Generating types and flags...\n",
      "Generated 1 types of order 1, with [1] flags of order 3.\n",
      "Generated 1 types of order 3, with [2] flags of order 4.\n",
      "Computing products..\n",
      "Writing SDP input file...\n",
      "Running SDP solver...\n",
      "Returncode is 0. Objective value is 1.0.\n",
      "Checking numerical bound...\n",
      "Forbidding 5:123413452345 as an induced subgraph.\n",
      "Generating graphs...\n",
      "Generated 5 graphs.\n",
      "Generating types and flags...\n",
      "Generated 1 types of order 1, with [1] flags of order 3.\n",
      "Generated 1 types of order 3, with [2] flags of order 4.\n",
      "Computing products..\n",
      "Writing SDP input file...\n",
      "Running SDP solver...\n",
      "Returncode is 0. Objective value is 1.0.\n",
      "Checking numerical bound...\n",
      "Forbidding 5:123512451345 as an induced subgraph.\n",
      "Generating graphs...\n",
      "Generated 5 graphs.\n",
      "Generating types and flags...\n",
      "Generated 1 types of order 1, with [1] flags of order 3.\n",
      "Generated 1 types of order 3, with [2] flags of order 4.\n",
      "Computing products..\n",
      "Writing SDP input file...\n",
      "Running SDP solver...\n",
      "Returncode is 0. Objective value is 1.0.\n",
      "Checking numerical bound...\n",
      "Forbidding 5:123512452345 as an induced subgraph.\n",
      "Generating graphs...\n",
      "Generated 5 graphs.\n",
      "Generating types and flags...\n",
      "Generated 1 types of order 1, with [1] flags of order 3.\n",
      "Generated 1 types of order 3, with [2] flags of order 4.\n"
     ]
    },
    {
     "name": "stdout",
     "output_type": "stream",
     "text": [
      "Computing products..\n",
      "Writing SDP input file...\n",
      "Running SDP solver...\n",
      "Returncode is 0. Objective value is 1.0.\n",
      "Checking numerical bound...\n",
      "Forbidding 5:123513452345 as an induced subgraph.\n",
      "Generating graphs...\n",
      "Generated 5 graphs.\n",
      "Generating types and flags...\n",
      "Generated 1 types of order 1, with [1] flags of order 3.\n",
      "Generated 1 types of order 3, with [2] flags of order 4.\n",
      "Computing products..\n",
      "Writing SDP input file...\n",
      "Running SDP solver...\n",
      "Returncode is 0. Objective value is 1.0.\n",
      "Checking numerical bound...\n",
      "Forbidding 5:124513452345 as an induced subgraph.\n",
      "Generating graphs...\n",
      "Generated 5 graphs.\n",
      "Generating types and flags...\n",
      "Generated 1 types of order 1, with [1] flags of order 3.\n",
      "Generated 1 types of order 3, with [2] flags of order 4.\n",
      "Computing products..\n",
      "Writing SDP input file...\n",
      "Running SDP solver...\n",
      "Returncode is 0. Objective value is 1.0.\n",
      "Checking numerical bound...\n",
      "Forbidding 5:1234123512451345 as an induced subgraph.\n",
      "Generating graphs...\n",
      "Generated 5 graphs.\n",
      "Generating types and flags...\n",
      "Generated 1 types of order 1, with [1] flags of order 3.\n",
      "Generated 1 types of order 3, with [2] flags of order 4.\n",
      "Computing products..\n",
      "Writing SDP input file...\n",
      "Running SDP solver...\n",
      "Returncode is 0. Objective value is 1.0.\n",
      "Checking numerical bound...\n",
      "Forbidding 5:1234123512452345 as an induced subgraph.\n",
      "Generating graphs...\n",
      "Generated 5 graphs.\n",
      "Generating types and flags...\n",
      "Generated 1 types of order 1, with [1] flags of order 3.\n",
      "Generated 1 types of order 3, with [2] flags of order 4.\n",
      "Computing products..\n",
      "Writing SDP input file...\n",
      "Running SDP solver...\n",
      "Returncode is 0. Objective value is 1.0.\n",
      "Checking numerical bound...\n",
      "Forbidding 5:1234123513452345 as an induced subgraph.\n",
      "Generating graphs...\n",
      "Generated 5 graphs.\n",
      "Generating types and flags...\n",
      "Generated 1 types of order 1, with [1] flags of order 3.\n",
      "Generated 1 types of order 3, with [2] flags of order 4.\n",
      "Computing products..\n",
      "Writing SDP input file...\n",
      "Running SDP solver...\n",
      "Returncode is 0. Objective value is 1.0.\n",
      "Checking numerical bound...\n",
      "Forbidding 5:1234124513452345 as an induced subgraph.\n",
      "Generating graphs...\n",
      "Generated 5 graphs.\n",
      "Generating types and flags...\n",
      "Generated 1 types of order 1, with [1] flags of order 3.\n",
      "Generated 1 types of order 3, with [2] flags of order 4.\n",
      "Computing products..\n",
      "Writing SDP input file...\n",
      "Running SDP solver...\n",
      "Returncode is 0. Objective value is 1.0.\n",
      "Checking numerical bound...\n",
      "Forbidding 5:1235124513452345 as an induced subgraph.\n",
      "Generating graphs...\n",
      "Generated 5 graphs.\n",
      "Generating types and flags...\n",
      "Generated 1 types of order 1, with [1] flags of order 3.\n",
      "Generated 1 types of order 3, with [2] flags of order 4.\n",
      "Computing products..\n",
      "Writing SDP input file...\n",
      "Running SDP solver...\n"
     ]
    },
    {
     "ename": "KeyboardInterrupt",
     "evalue": "",
     "output_type": "error",
     "traceback": [
      "\u001b[0;31m---------------------------------------------------------------------------\u001b[0m",
      "\u001b[0;31mKeyboardInterrupt\u001b[0m                         Traceback (most recent call last)",
      "\u001b[0;32m<ipython-input-25-56423f0029fb>\u001b[0m in \u001b[0;36m<module>\u001b[0;34m()\u001b[0m\n\u001b[1;32m      8\u001b[0m         \u001b[0mforbid\u001b[0m \u001b[0;34m=\u001b[0m \u001b[0mHypergraphFlag\u001b[0m\u001b[0;34m(\u001b[0m\u001b[0mstr\u001b[0m\u001b[0;34m(\u001b[0m\u001b[0mnum_vertices\u001b[0m\u001b[0;34m)\u001b[0m \u001b[0;34m+\u001b[0m \u001b[0;34m\":\"\u001b[0m \u001b[0;34m+\u001b[0m \u001b[0;34m(\u001b[0m\u001b[0;34m\"\"\u001b[0m\u001b[0;34m)\u001b[0m\u001b[0;34m.\u001b[0m\u001b[0mjoin\u001b[0m\u001b[0;34m(\u001b[0m\u001b[0mc\u001b[0m\u001b[0;34m)\u001b[0m\u001b[0;34m)\u001b[0m\u001b[0;34m\u001b[0m\u001b[0m\n\u001b[1;32m      9\u001b[0m         \u001b[0mproblem\u001b[0m \u001b[0;34m=\u001b[0m \u001b[0mProblem\u001b[0m\u001b[0;34m(\u001b[0m\u001b[0mHypergraphFlag\u001b[0m\u001b[0;34m,\u001b[0m \u001b[0mInteger\u001b[0m\u001b[0;34m(\u001b[0m\u001b[0;36m5\u001b[0m\u001b[0;34m)\u001b[0m\u001b[0;34m,\u001b[0m \u001b[0mforbid_induced\u001b[0m\u001b[0;34m=\u001b[0m\u001b[0mforbid\u001b[0m\u001b[0;34m)\u001b[0m\u001b[0;34m\u001b[0m\u001b[0m\n\u001b[0;32m---> 10\u001b[0;31m         \u001b[0mproblem\u001b[0m\u001b[0;34m.\u001b[0m\u001b[0msolve_sdp\u001b[0m\u001b[0;34m(\u001b[0m\u001b[0;34m)\u001b[0m\u001b[0;34m\u001b[0m\u001b[0m\n\u001b[0m\u001b[1;32m     11\u001b[0m         \u001b[0mbound\u001b[0m \u001b[0;34m=\u001b[0m \u001b[0mproblem\u001b[0m\u001b[0;34m.\u001b[0m\u001b[0m_objective_value\u001b[0m\u001b[0;34m\u001b[0m\u001b[0m\n\u001b[1;32m     12\u001b[0m         \u001b[0;32mif\u001b[0m \u001b[0mbound\u001b[0m \u001b[0;34m<\u001b[0m \u001b[0mInteger\u001b[0m\u001b[0;34m(\u001b[0m\u001b[0;36m1\u001b[0m\u001b[0;34m)\u001b[0m\u001b[0;34m:\u001b[0m\u001b[0;34m\u001b[0m\u001b[0m\n",
      "\u001b[0;32m/Applications/SageMath/local/lib/python2.7/site-packages/flagmatic/problem.pyc\u001b[0m in \u001b[0;36msolve_sdp\u001b[0;34m(self, show_output, solver, force_sharp_graphs, force_zero_eigenvectors, check_solution, tolerance, show_sorted, show_all, use_initial_point, import_solution_file)\u001b[0m\n\u001b[1;32m   1214\u001b[0m                 \u001b[0mself\u001b[0m\u001b[0;34m.\u001b[0m\u001b[0mwrite_sdp_initial_point_file\u001b[0m\u001b[0;34m(\u001b[0m\u001b[0;34m)\u001b[0m\u001b[0;34m\u001b[0m\u001b[0m\n\u001b[1;32m   1215\u001b[0m             self._run_sdp_solver(show_output=show_output, solver=solver,\n\u001b[0;32m-> 1216\u001b[0;31m                                  use_initial_point=use_initial_point)\n\u001b[0m\u001b[1;32m   1217\u001b[0m \u001b[0;34m\u001b[0m\u001b[0m\n\u001b[1;32m   1218\u001b[0m         \u001b[0;32melse\u001b[0m\u001b[0;34m:\u001b[0m\u001b[0;34m\u001b[0m\u001b[0m\n",
      "\u001b[0;32m/Applications/SageMath/local/lib/python2.7/site-packages/flagmatic/problem.pyc\u001b[0m in \u001b[0;36m_run_sdp_solver\u001b[0;34m(self, show_output, solver, use_initial_point)\u001b[0m\n\u001b[1;32m   1559\u001b[0m                 \u001b[0;32mbreak\u001b[0m\u001b[0;34m\u001b[0m\u001b[0m\n\u001b[1;32m   1560\u001b[0m             \u001b[0;32mtry\u001b[0m\u001b[0;34m:\u001b[0m\u001b[0;34m\u001b[0m\u001b[0m\n\u001b[0;32m-> 1561\u001b[0;31m                 \u001b[0mp\u001b[0m\u001b[0;34m.\u001b[0m\u001b[0mexpect\u001b[0m\u001b[0;34m(\u001b[0m\u001b[0;34m\"\\r\\n\"\u001b[0m\u001b[0;34m)\u001b[0m\u001b[0;34m\u001b[0m\u001b[0m\n\u001b[0m\u001b[1;32m   1562\u001b[0m                 \u001b[0mline\u001b[0m \u001b[0;34m=\u001b[0m \u001b[0mp\u001b[0m\u001b[0;34m.\u001b[0m\u001b[0mbefore\u001b[0m\u001b[0;34m.\u001b[0m\u001b[0mstrip\u001b[0m\u001b[0;34m(\u001b[0m\u001b[0;34m)\u001b[0m \u001b[0;34m+\u001b[0m \u001b[0;34m\"\\n\"\u001b[0m\u001b[0;34m\u001b[0m\u001b[0m\n\u001b[1;32m   1563\u001b[0m                 \u001b[0mself\u001b[0m\u001b[0;34m.\u001b[0m\u001b[0m_sdp_solver_output\u001b[0m \u001b[0;34m+=\u001b[0m \u001b[0mline\u001b[0m\u001b[0;34m\u001b[0m\u001b[0m\n",
      "\u001b[0;32m/Applications/SageMath/local/lib/python2.7/site-packages/pexpect/spawnbase.pyc\u001b[0m in \u001b[0;36mexpect\u001b[0;34m(self, pattern, timeout, searchwindowsize, async_, **kw)\u001b[0m\n\u001b[1;32m    339\u001b[0m         \u001b[0mcompiled_pattern_list\u001b[0m \u001b[0;34m=\u001b[0m \u001b[0mself\u001b[0m\u001b[0;34m.\u001b[0m\u001b[0mcompile_pattern_list\u001b[0m\u001b[0;34m(\u001b[0m\u001b[0mpattern\u001b[0m\u001b[0;34m)\u001b[0m\u001b[0;34m\u001b[0m\u001b[0m\n\u001b[1;32m    340\u001b[0m         return self.expect_list(compiled_pattern_list,\n\u001b[0;32m--> 341\u001b[0;31m                 timeout, searchwindowsize, async_)\n\u001b[0m\u001b[1;32m    342\u001b[0m \u001b[0;34m\u001b[0m\u001b[0m\n\u001b[1;32m    343\u001b[0m     def expect_list(self, pattern_list, timeout=-1, searchwindowsize=-1,\n",
      "\u001b[0;32m/Applications/SageMath/local/lib/python2.7/site-packages/pexpect/spawnbase.pyc\u001b[0m in \u001b[0;36mexpect_list\u001b[0;34m(self, pattern_list, timeout, searchwindowsize, async_, **kw)\u001b[0m\n\u001b[1;32m    367\u001b[0m             \u001b[0;32mreturn\u001b[0m \u001b[0mexpect_async\u001b[0m\u001b[0;34m(\u001b[0m\u001b[0mexp\u001b[0m\u001b[0;34m,\u001b[0m \u001b[0mtimeout\u001b[0m\u001b[0;34m)\u001b[0m\u001b[0;34m\u001b[0m\u001b[0m\n\u001b[1;32m    368\u001b[0m         \u001b[0;32melse\u001b[0m\u001b[0;34m:\u001b[0m\u001b[0;34m\u001b[0m\u001b[0m\n\u001b[0;32m--> 369\u001b[0;31m             \u001b[0;32mreturn\u001b[0m \u001b[0mexp\u001b[0m\u001b[0;34m.\u001b[0m\u001b[0mexpect_loop\u001b[0m\u001b[0;34m(\u001b[0m\u001b[0mtimeout\u001b[0m\u001b[0;34m)\u001b[0m\u001b[0;34m\u001b[0m\u001b[0m\n\u001b[0m\u001b[1;32m    370\u001b[0m \u001b[0;34m\u001b[0m\u001b[0m\n\u001b[1;32m    371\u001b[0m     def expect_exact(self, pattern_list, timeout=-1, searchwindowsize=-1,\n",
      "\u001b[0;32m/Applications/SageMath/local/lib/python2.7/site-packages/pexpect/expect.pyc\u001b[0m in \u001b[0;36mexpect_loop\u001b[0;34m(self, timeout)\u001b[0m\n\u001b[1;32m    109\u001b[0m                     \u001b[0;32mreturn\u001b[0m \u001b[0mself\u001b[0m\u001b[0;34m.\u001b[0m\u001b[0mtimeout\u001b[0m\u001b[0;34m(\u001b[0m\u001b[0;34m)\u001b[0m\u001b[0;34m\u001b[0m\u001b[0m\n\u001b[1;32m    110\u001b[0m                 \u001b[0;31m# Still have time left, so read more data\u001b[0m\u001b[0;34m\u001b[0m\u001b[0;34m\u001b[0m\u001b[0m\n\u001b[0;32m--> 111\u001b[0;31m                 \u001b[0mincoming\u001b[0m \u001b[0;34m=\u001b[0m \u001b[0mspawn\u001b[0m\u001b[0;34m.\u001b[0m\u001b[0mread_nonblocking\u001b[0m\u001b[0;34m(\u001b[0m\u001b[0mspawn\u001b[0m\u001b[0;34m.\u001b[0m\u001b[0mmaxread\u001b[0m\u001b[0;34m,\u001b[0m \u001b[0mtimeout\u001b[0m\u001b[0;34m)\u001b[0m\u001b[0;34m\u001b[0m\u001b[0m\n\u001b[0m\u001b[1;32m    112\u001b[0m                 \u001b[0;32mif\u001b[0m \u001b[0mself\u001b[0m\u001b[0;34m.\u001b[0m\u001b[0mspawn\u001b[0m\u001b[0;34m.\u001b[0m\u001b[0mdelayafterread\u001b[0m \u001b[0;32mis\u001b[0m \u001b[0;32mnot\u001b[0m \u001b[0mNone\u001b[0m\u001b[0;34m:\u001b[0m\u001b[0;34m\u001b[0m\u001b[0m\n\u001b[1;32m    113\u001b[0m                     \u001b[0mtime\u001b[0m\u001b[0;34m.\u001b[0m\u001b[0msleep\u001b[0m\u001b[0;34m(\u001b[0m\u001b[0mself\u001b[0m\u001b[0;34m.\u001b[0m\u001b[0mspawn\u001b[0m\u001b[0;34m.\u001b[0m\u001b[0mdelayafterread\u001b[0m\u001b[0;34m)\u001b[0m\u001b[0;34m\u001b[0m\u001b[0m\n",
      "\u001b[0;32m/Applications/SageMath/local/lib/python2.7/site-packages/pexpect/pty_spawn.pyc\u001b[0m in \u001b[0;36mread_nonblocking\u001b[0;34m(self, size, timeout)\u001b[0m\n\u001b[1;32m    497\u001b[0m         \u001b[0;31m# is available right now. But if a non-zero timeout is given\u001b[0m\u001b[0;34m\u001b[0m\u001b[0;34m\u001b[0m\u001b[0m\n\u001b[1;32m    498\u001b[0m         \u001b[0;31m# (possibly timeout=None), we call select() with a timeout.\u001b[0m\u001b[0;34m\u001b[0m\u001b[0;34m\u001b[0m\u001b[0m\n\u001b[0;32m--> 499\u001b[0;31m         \u001b[0;32mif\u001b[0m \u001b[0;34m(\u001b[0m\u001b[0mtimeout\u001b[0m \u001b[0;34m!=\u001b[0m \u001b[0;36m0\u001b[0m\u001b[0;34m)\u001b[0m \u001b[0;32mand\u001b[0m \u001b[0mselect\u001b[0m\u001b[0;34m(\u001b[0m\u001b[0mtimeout\u001b[0m\u001b[0;34m)\u001b[0m\u001b[0;34m:\u001b[0m\u001b[0;34m\u001b[0m\u001b[0m\n\u001b[0m\u001b[1;32m    500\u001b[0m             \u001b[0;32mreturn\u001b[0m \u001b[0msuper\u001b[0m\u001b[0;34m(\u001b[0m\u001b[0mspawn\u001b[0m\u001b[0;34m,\u001b[0m \u001b[0mself\u001b[0m\u001b[0;34m)\u001b[0m\u001b[0;34m.\u001b[0m\u001b[0mread_nonblocking\u001b[0m\u001b[0;34m(\u001b[0m\u001b[0msize\u001b[0m\u001b[0;34m)\u001b[0m\u001b[0;34m\u001b[0m\u001b[0m\n\u001b[1;32m    501\u001b[0m \u001b[0;34m\u001b[0m\u001b[0m\n",
      "\u001b[0;32m/Applications/SageMath/local/lib/python2.7/site-packages/pexpect/pty_spawn.pyc\u001b[0m in \u001b[0;36mselect\u001b[0;34m(timeout)\u001b[0m\n\u001b[1;32m    447\u001b[0m         \u001b[0;32melse\u001b[0m\u001b[0;34m:\u001b[0m\u001b[0;34m\u001b[0m\u001b[0m\n\u001b[1;32m    448\u001b[0m             \u001b[0;32mdef\u001b[0m \u001b[0mselect\u001b[0m\u001b[0;34m(\u001b[0m\u001b[0mtimeout\u001b[0m\u001b[0;34m)\u001b[0m\u001b[0;34m:\u001b[0m\u001b[0;34m\u001b[0m\u001b[0m\n\u001b[0;32m--> 449\u001b[0;31m                 \u001b[0;32mreturn\u001b[0m \u001b[0mselect_ignore_interrupts\u001b[0m\u001b[0;34m(\u001b[0m\u001b[0;34m[\u001b[0m\u001b[0mself\u001b[0m\u001b[0;34m.\u001b[0m\u001b[0mchild_fd\u001b[0m\u001b[0;34m]\u001b[0m\u001b[0;34m,\u001b[0m \u001b[0;34m[\u001b[0m\u001b[0;34m]\u001b[0m\u001b[0;34m,\u001b[0m \u001b[0;34m[\u001b[0m\u001b[0;34m]\u001b[0m\u001b[0;34m,\u001b[0m \u001b[0mtimeout\u001b[0m\u001b[0;34m)\u001b[0m\u001b[0;34m[\u001b[0m\u001b[0;36m0\u001b[0m\u001b[0;34m]\u001b[0m\u001b[0;34m\u001b[0m\u001b[0m\n\u001b[0m\u001b[1;32m    450\u001b[0m \u001b[0;34m\u001b[0m\u001b[0m\n\u001b[1;32m    451\u001b[0m         \u001b[0;31m# If there is data available to read right now, read as much as\u001b[0m\u001b[0;34m\u001b[0m\u001b[0;34m\u001b[0m\u001b[0m\n",
      "\u001b[0;32m/Applications/SageMath/local/lib/python2.7/site-packages/pexpect/utils.pyc\u001b[0m in \u001b[0;36mselect_ignore_interrupts\u001b[0;34m(iwtd, owtd, ewtd, timeout)\u001b[0m\n\u001b[1;32m    141\u001b[0m     \u001b[0;32mwhile\u001b[0m \u001b[0mTrue\u001b[0m\u001b[0;34m:\u001b[0m\u001b[0;34m\u001b[0m\u001b[0m\n\u001b[1;32m    142\u001b[0m         \u001b[0;32mtry\u001b[0m\u001b[0;34m:\u001b[0m\u001b[0;34m\u001b[0m\u001b[0m\n\u001b[0;32m--> 143\u001b[0;31m             \u001b[0;32mreturn\u001b[0m \u001b[0mselect\u001b[0m\u001b[0;34m.\u001b[0m\u001b[0mselect\u001b[0m\u001b[0;34m(\u001b[0m\u001b[0miwtd\u001b[0m\u001b[0;34m,\u001b[0m \u001b[0mowtd\u001b[0m\u001b[0;34m,\u001b[0m \u001b[0mewtd\u001b[0m\u001b[0;34m,\u001b[0m \u001b[0mtimeout\u001b[0m\u001b[0;34m)\u001b[0m\u001b[0;34m\u001b[0m\u001b[0m\n\u001b[0m\u001b[1;32m    144\u001b[0m         \u001b[0;32mexcept\u001b[0m \u001b[0mInterruptedError\u001b[0m\u001b[0;34m:\u001b[0m\u001b[0;34m\u001b[0m\u001b[0m\n\u001b[1;32m    145\u001b[0m             \u001b[0merr\u001b[0m \u001b[0;34m=\u001b[0m \u001b[0msys\u001b[0m\u001b[0;34m.\u001b[0m\u001b[0mexc_info\u001b[0m\u001b[0;34m(\u001b[0m\u001b[0;34m)\u001b[0m\u001b[0;34m[\u001b[0m\u001b[0;36m1\u001b[0m\u001b[0;34m]\u001b[0m\u001b[0;34m\u001b[0m\u001b[0m\n",
      "\u001b[0;32msrc/cysignals/signals.pyx\u001b[0m in \u001b[0;36mcysignals.signals.python_check_interrupt\u001b[0;34m()\u001b[0m\n",
      "\u001b[0;32msrc/cysignals/signals.pyx\u001b[0m in \u001b[0;36mcysignals.signals.sig_raise_exception\u001b[0;34m()\u001b[0m\n",
      "\u001b[0;31mKeyboardInterrupt\u001b[0m: "
     ]
    }
   ],
   "source": [
    "good_case = []\n",
    "\n",
    "num_vertices = 5\n",
    "edges = map(lambda c: (\"\").join(map(str, c)), Combinations(range(1, num_vertices + 1), 4).list())\n",
    "for l in range(1, len(edges) + 1):\n",
    "    combs = Combinations(edges, l).list()\n",
    "    for c in combs:\n",
    "        forbid = HypergraphFlag(str(num_vertices) + \":\" + (\"\").join(c))\n",
    "        problem = Problem(HypergraphFlag, 5, forbid_induced=forbid)\n",
    "        problem.solve_sdp()\n",
    "        bound = problem._objective_value\n",
    "        if bound < 1:\n",
    "            good_case.append(forbid)"
   ]
  },
  {
   "cell_type": "code",
   "execution_count": 2,
   "metadata": {},
   "outputs": [
    {
     "name": "stdout",
     "output_type": "stream",
     "text": [
      "Generating graphs...\n",
      "Generated 6 graphs.\n",
      "Generating types and flags...\n",
      "Generated 1 types of order 1, with [1] flags of order 3.\n",
      "Generated 1 types of order 3, with [2] flags of order 4.\n",
      "Computing products..\n",
      "Writing SDP input file...\n",
      "Running SDP solver...\n",
      "Returncode is 0. Objective value is 1.0.\n",
      "Checking numerical bound...\n",
      "Generating graphs...\n",
      "Generated 6 graphs.\n",
      "Generating types and flags...\n",
      "Generated 1 types of order 1, with [1] flags of order 3.\n",
      "Generated 1 types of order 3, with [2] flags of order 4.\n",
      "Computing products..\n",
      "Writing SDP input file...\n",
      "Running SDP solver...\n",
      "Returncode is 0. Objective value is 0.9375.\n",
      "Checking numerical bound...\n",
      "No target bound to meet.\n",
      "Rounding matrices..\n",
      "Bound is 15361/16384 (0.9375610352).\n",
      "Written certificate.\n",
      "Generating graphs...\n",
      "Generated 6 graphs.\n",
      "Generating types and flags...\n",
      "Generated 1 types of order 1, with [1] flags of order 3.\n",
      "Generated 1 types of order 3, with [2] flags of order 4.\n",
      "Computing products..\n",
      "Writing SDP input file...\n",
      "Running SDP solver...\n",
      "Returncode is 0. Objective value is 0.83333334.\n",
      "Checking numerical bound...\n",
      "No target bound to meet.\n",
      "Rounding matrices..\n",
      "Bound is 874225/1048576 (0.8337259293).\n",
      "Written certificate.\n",
      "Generating graphs...\n",
      "Generated 6 graphs.\n",
      "Generating types and flags...\n",
      "Generated 1 types of order 1, with [1] flags of order 3.\n",
      "Generated 1 types of order 3, with [2] flags of order 4.\n",
      "Computing products..\n",
      "Writing SDP input file...\n",
      "Running SDP solver...\n",
      "Returncode is 0. Objective value is 0.83333334.\n",
      "Checking numerical bound...\n",
      "No target bound to meet.\n",
      "Rounding matrices..\n",
      "Bound is 874225/1048576 (0.8337259293).\n",
      "Written certificate.\n",
      "Generating graphs...\n",
      "Generated 156 graphs.\n",
      "Generating types and flags...\n",
      "Generated 1 types of order 0, with [1] flags of order 3.\n",
      "Generated 1 types of order 2, with [2] flags of order 4.\n",
      "Generated 2 types of order 4, with [16, 16] flags of order 5.\n",
      "Computing products....\n",
      "Writing SDP input file...\n",
      "Running SDP solver...\n",
      "Returncode is 0. Objective value is 1.0.\n",
      "Checking numerical bound...\n",
      "Generating graphs...\n",
      "Generated 156 graphs.\n",
      "Generating types and flags...\n",
      "Generated 1 types of order 0, with [1] flags of order 3.\n",
      "Generated 1 types of order 2, with [2] flags of order 4.\n",
      "Generated 2 types of order 4, with [16, 16] flags of order 5.\n",
      "Computing products....\n",
      "Writing SDP input file...\n",
      "Running SDP solver...\n",
      "Returncode is 0. Objective value is 0.81.\n",
      "Checking numerical bound...\n",
      "No target bound to meet.\n",
      "Rounding matrices....\n",
      "Bound is 849609/1048576 (0.8102502823).\n",
      "Written certificate.\n",
      "Generating graphs...\n",
      "Generated 156 graphs.\n",
      "Generating types and flags...\n",
      "Generated 1 types of order 0, with [1] flags of order 3.\n",
      "Generated 1 types of order 2, with [2] flags of order 4.\n",
      "Generated 2 types of order 4, with [16, 16] flags of order 5.\n",
      "Computing products....\n",
      "Writing SDP input file...\n",
      "Running SDP solver...\n",
      "Returncode is 0. Objective value is 0.78717213.\n",
      "Checking numerical bound...\n",
      "No target bound to meet.\n",
      "Rounding matrices....\n",
      "Bound is 413153/524288 (0.7880268097).\n",
      "Written certificate.\n",
      "Generating graphs...\n",
      "Generated 156 graphs.\n",
      "Generating types and flags...\n",
      "Generated 1 types of order 0, with [1] flags of order 3.\n",
      "Generated 1 types of order 2, with [2] flags of order 4.\n",
      "Generated 2 types of order 4, with [16, 16] flags of order 5.\n",
      "Computing products....\n",
      "Writing SDP input file...\n",
      "Running SDP solver...\n",
      "Returncode is 0. Objective value is 0.86137792.\n",
      "Checking numerical bound...\n",
      "No target bound to meet.\n",
      "Rounding matrices....\n",
      "Bound is 10844035/12582912 (0.8618064721).\n",
      "Written certificate.\n",
      "Generating graphs...\n",
      "Generated 156 graphs.\n",
      "Generating types and flags...\n",
      "Generated 1 types of order 0, with [1] flags of order 3.\n",
      "Generated 1 types of order 2, with [2] flags of order 4.\n",
      "Generated 2 types of order 4, with [16, 16] flags of order 5.\n",
      "Computing products....\n",
      "Writing SDP input file...\n",
      "Running SDP solver...\n",
      "Returncode is 0. Objective value is 0.8333391.\n",
      "Checking numerical bound...\n",
      "No target bound to meet.\n",
      "Rounding matrices....\n",
      "Bound is 3278423/3932160 (0.8337460836).\n",
      "Written certificate.\n",
      "Generating graphs...\n",
      "Generated 156 graphs.\n",
      "Generating types and flags...\n",
      "Generated 1 types of order 0, with [1] flags of order 3.\n",
      "Generated 1 types of order 2, with [2] flags of order 4.\n",
      "Generated 2 types of order 4, with [16, 16] flags of order 5.\n",
      "Computing products....\n",
      "Writing SDP input file...\n",
      "Running SDP solver...\n",
      "Returncode is 0. Objective value is 0.87921215.\n",
      "Checking numerical bound...\n",
      "No target bound to meet.\n",
      "Rounding matrices....\n",
      "Bound is 691861/786432 (0.8797467550).\n",
      "Written certificate.\n",
      "Generating graphs...\n",
      "Generated 156 graphs.\n",
      "Generating types and flags...\n",
      "Generated 1 types of order 0, with [1] flags of order 3.\n",
      "Generated 1 types of order 2, with [2] flags of order 4.\n",
      "Generated 2 types of order 4, with [16, 16] flags of order 5.\n",
      "Computing products....\n",
      "Writing SDP input file...\n",
      "Running SDP solver...\n",
      "Returncode is 0. Objective value is 0.86094897.\n",
      "Checking numerical bound...\n",
      "No target bound to meet.\n",
      "Rounding matrices....\n",
      "Bound is 5424409/6291456 (0.8621865908).\n",
      "Written certificate.\n",
      "Generating graphs...\n",
      "Generated 156 graphs.\n",
      "Generating types and flags...\n",
      "Generated 1 types of order 0, with [1] flags of order 3.\n",
      "Generated 1 types of order 2, with [2] flags of order 4.\n",
      "Generated 2 types of order 4, with [16, 16] flags of order 5.\n",
      "Computing products....\n",
      "Writing SDP input file...\n",
      "Running SDP solver...\n",
      "Returncode is 0. Objective value is 0.83773782.\n",
      "Checking numerical bound...\n",
      "No target bound to meet.\n",
      "Rounding matrices....\n",
      "Bound is 17574021/20971520 (0.8379946232).\n",
      "Written certificate.\n",
      "Generating graphs...\n",
      "Generated 156 graphs.\n",
      "Generating types and flags...\n",
      "Generated 1 types of order 0, with [1] flags of order 3.\n",
      "Generated 1 types of order 2, with [2] flags of order 4.\n",
      "Generated 2 types of order 4, with [16, 16] flags of order 5.\n",
      "Computing products....\n",
      "Writing SDP input file...\n",
      "Running SDP solver...\n",
      "Returncode is 0. Objective value is 0.83773782.\n",
      "Checking numerical bound...\n",
      "No target bound to meet.\n",
      "Rounding matrices....\n",
      "Bound is 52722941/62914560 (0.8380085786).\n",
      "Written certificate.\n"
     ]
    }
   ],
   "source": [
    "good_case = []\n",
    "\n",
    "# for induced densities\n",
    "num_vertices = range(5, 7)\n",
    "for n in num_vertices:\n",
    "    upper = int(binomial(n, 4)/2) + 1\n",
    "    for i in range(upper + 1):\n",
    "        problem = Problem(FourGraphFlag, n, density=(n, i))\n",
    "        problem.solve_sdp()\n",
    "        bound = problem._objective_value\n",
    "        if bound < 1:\n",
    "            good_case.append(((n, i), bound))\n",
    "            problem.make_exact()\n",
    "            problem.write_certificate(\"certs/\" + str(n) + \"-\" + str(i) + \"-induced-4g.json\")"
   ]
  },
  {
   "cell_type": "code",
   "execution_count": 2,
   "metadata": {},
   "outputs": [
    {
     "name": "stdout",
     "output_type": "stream",
     "text": [
      "Generating graphs...\n",
      "Generated 2 graphs.\n",
      "Generating types and flags...\n",
      "Generated 1 types of order 1, with [1] flags of order 3.\n",
      "Generated 1 types of order 3, with [1] flags of order 4.\n",
      "Computing products..\n",
      "Writing SDP input file...\n",
      "Running SDP solver...\n",
      "Returncode is 0. Objective value is 1.0.\n",
      "Checking numerical bound...\n",
      "Generating graphs...\n",
      "Generated 2 graphs.\n",
      "Generating types and flags...\n",
      "Generated 1 types of order 1, with [1] flags of order 3.\n",
      "Generated 1 types of order 3, with [1] flags of order 4.\n",
      "Computing products..\n",
      "Writing SDP input file...\n",
      "Running SDP solver...\n",
      "Returncode is 0. Objective value is 1.0.\n",
      "Checking numerical bound...\n",
      "Generating graphs...\n",
      "Generated 7 graphs.\n",
      "Generating types and flags...\n",
      "Generated 1 types of order 0, with [1] flags of order 3.\n",
      "Generated 1 types of order 2, with [1] flags of order 4.\n",
      "Generated 1 types of order 4, with [2] flags of order 5.\n",
      "Computing products...\n",
      "Writing SDP input file...\n",
      "Running SDP solver...\n",
      "Returncode is 0. Objective value is 1.0.\n",
      "Checking numerical bound...\n",
      "Generating graphs...\n",
      "Generated 7 graphs.\n",
      "Generating types and flags...\n",
      "Generated 1 types of order 0, with [1] flags of order 3.\n",
      "Generated 1 types of order 2, with [1] flags of order 4.\n",
      "Generated 1 types of order 4, with [2] flags of order 5.\n",
      "Computing products...\n",
      "Writing SDP input file...\n",
      "Running SDP solver...\n",
      "Returncode is 0. Objective value is 0.96.\n",
      "Checking numerical bound...\n"
     ]
    },
    {
     "ename": "NameError",
     "evalue": "name 'good_case' is not defined",
     "output_type": "error",
     "traceback": [
      "\u001b[0;31m---------------------------------------------------------------------------\u001b[0m",
      "\u001b[0;31mNameError\u001b[0m                                 Traceback (most recent call last)",
      "\u001b[0;32m<ipython-input-2-592c3fb04102>\u001b[0m in \u001b[0;36m<module>\u001b[0;34m()\u001b[0m\n\u001b[1;32m      8\u001b[0m         \u001b[0mbound\u001b[0m \u001b[0;34m=\u001b[0m \u001b[0mproblem\u001b[0m\u001b[0;34m.\u001b[0m\u001b[0m_objective_value\u001b[0m\u001b[0;34m\u001b[0m\u001b[0m\n\u001b[1;32m      9\u001b[0m         \u001b[0;32mif\u001b[0m \u001b[0mbound\u001b[0m \u001b[0;34m<\u001b[0m \u001b[0mInteger\u001b[0m\u001b[0;34m(\u001b[0m\u001b[0;36m1\u001b[0m\u001b[0;34m)\u001b[0m\u001b[0;34m:\u001b[0m\u001b[0;34m\u001b[0m\u001b[0m\n\u001b[0;32m---> 10\u001b[0;31m             \u001b[0mgood_case\u001b[0m\u001b[0;34m.\u001b[0m\u001b[0mappend\u001b[0m\u001b[0;34m(\u001b[0m\u001b[0;34m(\u001b[0m\u001b[0;34m(\u001b[0m\u001b[0mn\u001b[0m\u001b[0;34m,\u001b[0m \u001b[0mi\u001b[0m\u001b[0;34m)\u001b[0m\u001b[0;34m,\u001b[0m \u001b[0mbound\u001b[0m\u001b[0;34m)\u001b[0m\u001b[0;34m)\u001b[0m\u001b[0;34m\u001b[0m\u001b[0m\n\u001b[0m\u001b[1;32m     11\u001b[0m             \u001b[0mproblem\u001b[0m\u001b[0;34m.\u001b[0m\u001b[0mmake_exact\u001b[0m\u001b[0;34m(\u001b[0m\u001b[0;34m)\u001b[0m\u001b[0;34m\u001b[0m\u001b[0m\n\u001b[1;32m     12\u001b[0m             \u001b[0mproblem\u001b[0m\u001b[0;34m.\u001b[0m\u001b[0mwrite_certificate\u001b[0m\u001b[0;34m(\u001b[0m\u001b[0;34m\"certs/\"\u001b[0m \u001b[0;34m+\u001b[0m \u001b[0mstr\u001b[0m\u001b[0;34m(\u001b[0m\u001b[0mn\u001b[0m\u001b[0;34m)\u001b[0m \u001b[0;34m+\u001b[0m \u001b[0;34m\"-\"\u001b[0m \u001b[0;34m+\u001b[0m \u001b[0mstr\u001b[0m\u001b[0;34m(\u001b[0m\u001b[0mi\u001b[0m\u001b[0;34m)\u001b[0m \u001b[0;34m+\u001b[0m \u001b[0;34m\"-induced-5g.json\"\u001b[0m\u001b[0;34m)\u001b[0m\u001b[0;34m\u001b[0m\u001b[0m\n",
      "\u001b[0;31mNameError\u001b[0m: name 'good_case' is not defined"
     ]
    }
   ],
   "source": [
    "# for induced densities\n",
    "num_vertices = range(5, 7)\n",
    "for n in num_vertices:\n",
    "    upper = int(binomial(n, 5)/2) + 1\n",
    "    for i in range(upper + 1):\n",
    "        problem = Problem(FiveGraphFlag, n, density=(n, i))\n",
    "        problem.solve_sdp()\n",
    "        bound = problem._objective_value\n",
    "        if bound < 1:\n",
    "            good_case.append(((n, i), bound))\n",
    "            problem.make_exact()\n",
    "            problem.write_certificate(\"certs/\" + str(n) + \"-\" + str(i) + \"-induced-5g.json\")"
   ]
  },
  {
   "cell_type": "code",
   "execution_count": 24,
   "metadata": {},
   "outputs": [
    {
     "ename": "TypeError",
     "evalue": "__init__() takes at most 1 positional argument (3 given)",
     "output_type": "error",
     "traceback": [
      "\u001b[0;31m---------------------------------------------------------------------------\u001b[0m",
      "\u001b[0;31mTypeError\u001b[0m                                 Traceback (most recent call last)",
      "\u001b[0;32m<ipython-input-24-2e69a933cd5b>\u001b[0m in \u001b[0;36m<module>\u001b[0;34m()\u001b[0m\n\u001b[1;32m      5\u001b[0m     \u001b[0;32mfor\u001b[0m \u001b[0mc\u001b[0m \u001b[0;32min\u001b[0m \u001b[0mcombs\u001b[0m\u001b[0;34m:\u001b[0m\u001b[0;34m\u001b[0m\u001b[0m\n\u001b[1;32m      6\u001b[0m         \u001b[0mforbid\u001b[0m \u001b[0;34m=\u001b[0m \u001b[0mFourGraphFlag\u001b[0m\u001b[0;34m(\u001b[0m\u001b[0mstr\u001b[0m\u001b[0;34m(\u001b[0m\u001b[0mnum_vertices\u001b[0m\u001b[0;34m)\u001b[0m \u001b[0;34m+\u001b[0m \u001b[0;34m\":\"\u001b[0m \u001b[0;34m+\u001b[0m \u001b[0;34m(\u001b[0m\u001b[0;34m\"\"\u001b[0m\u001b[0;34m)\u001b[0m\u001b[0;34m.\u001b[0m\u001b[0mjoin\u001b[0m\u001b[0;34m(\u001b[0m\u001b[0mc\u001b[0m\u001b[0;34m)\u001b[0m\u001b[0;34m)\u001b[0m\u001b[0;34m\u001b[0m\u001b[0m\n\u001b[0;32m----> 7\u001b[0;31m         \u001b[0mproblem\u001b[0m \u001b[0;34m=\u001b[0m \u001b[0mProblem\u001b[0m\u001b[0;34m(\u001b[0m\u001b[0mFourGraphFlag\u001b[0m\u001b[0;34m,\u001b[0m \u001b[0mInteger\u001b[0m\u001b[0;34m(\u001b[0m\u001b[0;36m5\u001b[0m\u001b[0;34m)\u001b[0m\u001b[0;34m,\u001b[0m \u001b[0mforbid_induced\u001b[0m\u001b[0;34m=\u001b[0m\u001b[0mforbid\u001b[0m\u001b[0;34m)\u001b[0m\u001b[0;34m\u001b[0m\u001b[0m\n\u001b[0m\u001b[1;32m      8\u001b[0m         \u001b[0mproblem\u001b[0m\u001b[0;34m.\u001b[0m\u001b[0msolve_sdp\u001b[0m\u001b[0;34m(\u001b[0m\u001b[0;34m)\u001b[0m\u001b[0;34m\u001b[0m\u001b[0m\n\u001b[1;32m      9\u001b[0m         \u001b[0mbound\u001b[0m \u001b[0;34m=\u001b[0m \u001b[0mproblem\u001b[0m\u001b[0;34m.\u001b[0m\u001b[0m_objective_value\u001b[0m\u001b[0;34m\u001b[0m\u001b[0m\n",
      "\u001b[0;32m/Applications/SageMath/local/lib/python2.7/site-packages/flagmatic/problem.pyc\u001b[0m in \u001b[0;36m__init__\u001b[0;34m(self, flag_cls, order, forbid_induced, forbid, forbid_homomorphic_images, density, minimize, type_orders, types, max_flags, compute_products)\u001b[0m\n\u001b[1;32m    170\u001b[0m \u001b[0;34m\u001b[0m\u001b[0m\n\u001b[1;32m    171\u001b[0m         \u001b[0;32mif\u001b[0m \u001b[0mdensity\u001b[0m \u001b[0;32mis\u001b[0m \u001b[0mNone\u001b[0m\u001b[0;34m:\u001b[0m\u001b[0;34m\u001b[0m\u001b[0m\n\u001b[0;32m--> 172\u001b[0;31m             \u001b[0mself\u001b[0m\u001b[0;34m.\u001b[0m\u001b[0mset_density\u001b[0m\u001b[0;34m(\u001b[0m\u001b[0mflag_cls\u001b[0m\u001b[0;34m.\u001b[0m\u001b[0mdefault_density_graph\u001b[0m\u001b[0;34m(\u001b[0m\u001b[0;34m)\u001b[0m\u001b[0;34m)\u001b[0m\u001b[0;34m\u001b[0m\u001b[0m\n\u001b[0m\u001b[1;32m    173\u001b[0m         \u001b[0;32melse\u001b[0m\u001b[0;34m:\u001b[0m\u001b[0;34m\u001b[0m\u001b[0m\n\u001b[1;32m    174\u001b[0m             \u001b[0mself\u001b[0m\u001b[0;34m.\u001b[0m\u001b[0mset_density\u001b[0m\u001b[0;34m(\u001b[0m\u001b[0mdensity\u001b[0m\u001b[0;34m)\u001b[0m\u001b[0;34m\u001b[0m\u001b[0m\n",
      "\u001b[0;32mflagmatic/hypergraph_flag.pyx\u001b[0m in \u001b[0;36mflagmatic.hypergraph_flag.HypergraphFlag.default_density_graph\u001b[0;34m()\u001b[0m\n",
      "\u001b[0;32mflagmatic/three_graph_flag.pyx\u001b[0m in \u001b[0;36mflagmatic.three_graph_flag.FourGraphFlag.__init__\u001b[0;34m()\u001b[0m\n",
      "\u001b[0;31mTypeError\u001b[0m: __init__() takes at most 1 positional argument (3 given)"
     ]
    }
   ],
   "source": [
    "num_vertices = 5\n",
    "edges = map(lambda c: (\"\").join(map(str, c)), Combinations(range(1, num_vertices + 1), 4).list())\n",
    "for l in range(1, len(edges) + 1):\n",
    "    combs = Combinations(edges, l).list()\n",
    "    for c in combs:\n",
    "        forbid = FourGraphFlag(str(num_vertices) + \":\" + (\"\").join(c))\n",
    "        problem = Problem(FourGraphFlag, 5, forbid_induced=forbid)\n",
    "        problem.solve_sdp()\n",
    "        bound = problem._objective_value\n",
    "        if bound < 1:\n",
    "            good_case.append(forbid)\n",
    "            problem.make_exact()\n",
    "            problem.write_certificate(\"certs/\" + str(forbid) + \"-forbid-4g.json\")"
   ]
  },
  {
   "cell_type": "code",
   "execution_count": null,
   "metadata": {},
   "outputs": [
    {
     "name": "stdout",
     "output_type": "stream",
     "text": [
      "Forbidding 5-sets from spanning exactly 5 edges.\n",
      "Generating graphs...\n",
      "('N:', 1)\n",
      "('num smaller graphs:', 1)\n",
      "('num possible edges:', 0)\n",
      "1/1...\n",
      "('N:', 2)\n",
      "('num smaller graphs:', 1)\n",
      "('num possible edges:', 0)\n",
      "1/1...\n",
      "('N:', 3)\n",
      "('num smaller graphs:', 1)\n",
      "('num possible edges:', 0)\n",
      "1/1...\n",
      "('N:', 4)\n",
      "('num smaller graphs:', 1)\n",
      "('num possible edges:', 1)\n",
      "1/1...\n",
      "('N:', 5)\n",
      "('num smaller graphs:', 2)\n",
      "('num possible edges:', 4)\n",
      "1/2...\n",
      "2/2...\n",
      "('N:', 6)\n",
      "('num smaller graphs:', 5)\n",
      "('num possible edges:', 10)\n",
      "1/5...\n",
      "2/5...\n",
      "3/5...\n",
      "4/5...\n",
      "5/5...\n",
      "('N:', 7)\n",
      "('num smaller graphs:', 122)\n",
      "('num possible edges:', 20)\n"
     ]
    }
   ],
   "source": [
    "problem = Problem(FourGraphFlag, 7, forbid_induced=(5,5))\n",
    "problem.solve_sdp()"
   ]
  },
  {
   "cell_type": "code",
   "execution_count": 24,
   "metadata": {},
   "outputs": [
    {
     "name": "stdout",
     "output_type": "stream",
     "text": [
      "Forbidding 5-sets from spanning exactly 4 edges.\n",
      "Forbidding 5-sets from spanning exactly 5 edges.\n",
      "Generating graphs...\n",
      "Generated 4 graphs.\n",
      "Generating types and flags...\n",
      "Generated 1 types of order 1, with [1] flags of order 3.\n",
      "Generated 1 types of order 3, with [2] flags of order 4.\n",
      "Computing products..\n",
      "Writing SDP input file...\n",
      "Running SDP solver...\n",
      "Returncode is 0. Objective value is 0.5.\n",
      "Checking numerical bound...\n"
     ]
    }
   ],
   "source": [
    "problem = Problem(HypergraphFlag, 5, forbid_induced=[(5,4), (5,5)])\n",
    "problem.solve_sdp()"
   ]
  },
  {
   "cell_type": "code",
   "execution_count": 26,
   "metadata": {},
   "outputs": [
    {
     "name": "stdout",
     "output_type": "stream",
     "text": [
      "Forbidding 5-sets from spanning exactly 3 edges.\n",
      "Forbidding 5-sets from spanning exactly 4 edges.\n",
      "Forbidding 5-sets from spanning exactly 5 edges.\n",
      "Generating graphs...\n",
      "Generated 3 graphs.\n",
      "Generating types and flags...\n",
      "Generated 1 types of order 1, with [1] flags of order 3.\n",
      "Generated 1 types of order 3, with [2] flags of order 4.\n",
      "Computing products..\n",
      "Determining which graphs appear in construction...\n",
      "Density of construction is 3/32.\n",
      "Found 1 zero eigenvectors for type 0.\n",
      "Found 2 zero eigenvectors for type 1.\n",
      "Writing SDP input file...\n",
      "Running SDP solver...\n",
      "Returncode is 0. Objective value is 0.25.\n",
      "Checking numerical bound...\n",
      "Warning: bound of 3/32 appears to have not been met.\n",
      "Type 0 (1 flags) blocks: [1] \n",
      "Type 1 (2 flags) blocks: [2] \n",
      "Creating bases..\n",
      "Transforming matrices..\n",
      "Rounding matrices..\n",
      "Constructing R matrix..\n",
      "Constructing DR matrix\n",
      "DR matrix has rank 0.\n"
     ]
    },
    {
     "ename": "ValueError",
     "evalue": "could not meet bound.",
     "output_type": "error",
     "traceback": [
      "\u001b[0;31m---------------------------------------------------------------------------\u001b[0m",
      "\u001b[0;31mValueError\u001b[0m                                Traceback (most recent call last)",
      "\u001b[0;32m<ipython-input-26-d2305c12b033>\u001b[0m in \u001b[0;36m<module>\u001b[0;34m()\u001b[0m\n\u001b[1;32m      3\u001b[0m \u001b[0mproblem\u001b[0m\u001b[0;34m.\u001b[0m\u001b[0mset_extremal_construction\u001b[0m\u001b[0;34m(\u001b[0m\u001b[0mconstruction\u001b[0m\u001b[0;34m)\u001b[0m\u001b[0;34m\u001b[0m\u001b[0m\n\u001b[1;32m      4\u001b[0m \u001b[0mproblem\u001b[0m\u001b[0;34m.\u001b[0m\u001b[0msolve_sdp\u001b[0m\u001b[0;34m(\u001b[0m\u001b[0;34m)\u001b[0m\u001b[0;34m\u001b[0m\u001b[0m\n\u001b[0;32m----> 5\u001b[0;31m \u001b[0mproblem\u001b[0m\u001b[0;34m.\u001b[0m\u001b[0mmake_exact\u001b[0m\u001b[0;34m(\u001b[0m\u001b[0;34m)\u001b[0m\u001b[0;34m\u001b[0m\u001b[0m\n\u001b[0m",
      "\u001b[0;32m/Applications/SageMath/local/lib/python2.7/site-packages/flagmatic/problem.pyc\u001b[0m in \u001b[0;36mmake_exact\u001b[0;34m(self, denominator, meet_target_bound, protect, use_densities, use_blocks, rank, show_changes, check_exact_bound, diagonalize)\u001b[0m\n\u001b[1;32m   2177\u001b[0m             \u001b[0;32mexcept\u001b[0m \u001b[0mValueError\u001b[0m\u001b[0;34m:\u001b[0m\u001b[0;34m\u001b[0m\u001b[0m\n\u001b[1;32m   2178\u001b[0m                 \u001b[0;32mif\u001b[0m \u001b[0mrank\u001b[0m \u001b[0;32mis\u001b[0m \u001b[0mNone\u001b[0m\u001b[0;34m:\u001b[0m\u001b[0;34m\u001b[0m\u001b[0m\n\u001b[0;32m-> 2179\u001b[0;31m                     \u001b[0;32mraise\u001b[0m \u001b[0mValueError\u001b[0m\u001b[0;34m(\u001b[0m\u001b[0;34m\"could not meet bound.\"\u001b[0m\u001b[0;34m)\u001b[0m\u001b[0;34m\u001b[0m\u001b[0m\n\u001b[0m\u001b[1;32m   2180\u001b[0m                 \u001b[0;32melse\u001b[0m\u001b[0;34m:\u001b[0m\u001b[0;34m\u001b[0m\u001b[0m\n\u001b[1;32m   2181\u001b[0m                     \u001b[0;32mraise\u001b[0m \u001b[0mValueError\u001b[0m\u001b[0;34m(\u001b[0m\u001b[0;34m\"could not meet bound (try increasing the value of ``rank``).\"\u001b[0m\u001b[0;34m)\u001b[0m\u001b[0;34m\u001b[0m\u001b[0m\n",
      "\u001b[0;31mValueError\u001b[0m: could not meet bound."
     ]
    }
   ],
   "source": [
    "problem = Problem(HypergraphFlag, 5, forbid_induced=[(5,3), (5,4), (5,5)])\n",
    "construction = FourGraphBlowupConstruction(\"4:1234\")\n",
    "problem.set_extremal_construction(construction)\n",
    "problem.solve_sdp()\n",
    "problem.make_exact()"
   ]
  },
  {
   "cell_type": "code",
   "execution_count": 46,
   "metadata": {},
   "outputs": [
    {
     "data": {
      "text/plain": [
       "[(4:, 5/27), (4:123124134, 16/27), (4:123124, 2/9)]"
      ]
     },
     "execution_count": 46,
     "metadata": {},
     "output_type": "execute_result"
    }
   ],
   "source": [
    "# Turan cons for K3\n",
    "ThreeGraphBlowupConstruction(\"3:112223331123\").subgraph_densities(4)"
   ]
  },
  {
   "cell_type": "code",
   "execution_count": 71,
   "metadata": {},
   "outputs": [
    {
     "data": {
      "text/plain": [
       "[(5:, 49/64), (5:12341235, 15/64)]"
      ]
     },
     "execution_count": 71,
     "metadata": {},
     "output_type": "execute_result"
    }
   ],
   "source": [
    "# K4\n",
    "FourGraphBlowupConstruction(\"4:1234\").subgraph_densities(5)"
   ]
  },
  {
   "cell_type": "code",
   "execution_count": 56,
   "metadata": {},
   "outputs": [
    {
     "name": "stdout",
     "output_type": "stream",
     "text": [
      "Found 7 orbits.\n"
     ]
    },
    {
     "data": {
      "text/plain": [
       "[(3:, 7/25), (3:1213, 12/25), (3:12, 6/25)]"
      ]
     },
     "execution_count": 56,
     "metadata": {},
     "output_type": "execute_result"
    }
   ],
   "source": [
    "GraphBlowupConstruction(\"5:1223344551\").subgraph_densities(3)"
   ]
  },
  {
   "cell_type": "code",
   "execution_count": 44,
   "metadata": {},
   "outputs": [
    {
     "name": "stdout",
     "output_type": "stream",
     "text": [
      "Generating graphs...\n",
      "Generated 6 graphs.\n",
      "Generating types and flags...\n",
      "Generated 1 types of order 1, with [1] flags of order 3.\n",
      "Generated 1 types of order 3, with [2] flags of order 4.\n",
      "Computing products..\n",
      "Writing SDP input file...\n",
      "Running SDP solver...\n",
      "Returncode is 0. Objective value is 0.83333334.\n",
      "Checking numerical bound...\n",
      "No target bound to meet.\n",
      "Rounding matrices..\n",
      "Bound is 874225/1048576 (0.8337259293).\n"
     ]
    }
   ],
   "source": [
    "problem = Problem(HypergraphFlag, 5, density=(5,2))\n",
    "problem.solve_sdp()\n",
    "problem.make_exact()"
   ]
  },
  {
   "cell_type": "code",
   "execution_count": 52,
   "metadata": {},
   "outputs": [
    {
     "name": "stdout",
     "output_type": "stream",
     "text": [
      "Forbidding 5-sets from spanning exactly 5 edges.\n",
      "Generating graphs...\n",
      "Generated 5 graphs.\n",
      "Generating types and flags...\n",
      "Generated 1 types of order 1, with [1] flags of order 3.\n",
      "Generated 1 types of order 3, with [2] flags of order 4.\n",
      "Computing products..\n",
      "Writing SDP input file...\n",
      "Running SDP solver...\n",
      "Returncode is 0. Objective value is 1.0.\n",
      "Checking numerical bound...\n",
      "No target bound to meet.\n",
      "Rounding matrices..\n",
      "Bound is 1 (1.000000000).\n"
     ]
    }
   ],
   "source": [
    "problem = Problem(HypergraphFlag, 5, density=HypergraphFlag(\"5:\"), forbid_induced=(5,5))\n",
    "problem.solve_sdp()\n",
    "problem.make_exact()"
   ]
  },
  {
   "cell_type": "code",
   "execution_count": 81,
   "metadata": {},
   "outputs": [
    {
     "name": "stdout",
     "output_type": "stream",
     "text": [
      "Generating graphs...\n",
      "Generated 156 graphs.\n",
      "Generating types and flags...\n",
      "Generated 1 types of order 0, with [1] flags of order 3.\n",
      "Generated 1 types of order 2, with [2] flags of order 4.\n",
      "Generated 2 types of order 4, with [16, 16] flags of order 5.\n",
      "Computing products....\n",
      "Writing SDP input file...\n",
      "Running SDP solver...\n",
      "Returncode is 0. Objective value is 0.78717213.\n",
      "Checking numerical bound...\n",
      "No target bound to meet.\n",
      "Rounding matrices....\n",
      "Bound is 413153/524288 (0.7880268097).\n"
     ]
    }
   ],
   "source": [
    "problem = Problem(HypergraphFlag, 6, density=(6,2), forbid=[])\n",
    "problem.solve_sdp()\n",
    "problem.make_exact()"
   ]
  },
  {
   "cell_type": "code",
   "execution_count": 94,
   "metadata": {},
   "outputs": [
    {
     "data": {
      "text/plain": [
       "[(5:, 23/128),\n",
       " (5:1234123512451345, 5/128),\n",
       " (5:12341235124513452345, 5/64),\n",
       " (5:1234, 25/64),\n",
       " (5:12341235, 5/16)]"
      ]
     },
     "execution_count": 94,
     "metadata": {},
     "output_type": "execute_result"
    }
   ],
   "source": [
    "# not K4\n",
    "FourGraphBlowupConstruction(\"4:1112222333344441123411222233334444112221333244431114\").subgraph_densities(5)"
   ]
  },
  {
   "cell_type": "code",
   "execution_count": 137,
   "metadata": {},
   "outputs": [
    {
     "data": {
      "text/plain": [
       "[(5:, 423/625),\n",
       " (5:1234123512451345, 6/625),\n",
       " (5:12341235124513452345, 12/625),\n",
       " (5:1234, 164/625),\n",
       " (5:12341235, 8/625),\n",
       " (5:123412351245, 12/625)]"
      ]
     },
     "execution_count": 137,
     "metadata": {},
     "output_type": "execute_result"
    }
   ],
   "source": [
    "# K4\n",
    "FourGraphBlowupConstruction(\"5:111222233334444111142224112211331144223322443344\").subgraph_densities(5)"
   ]
  },
  {
   "cell_type": "code",
   "execution_count": 142,
   "metadata": {},
   "outputs": [
    {
     "data": {
      "text/plain": [
       "[(5:, 414/625),\n",
       " (5:1234123512451345, 7/625),\n",
       " (5:12341235124513452345, 14/625),\n",
       " (5:1234, 168/625),\n",
       " (5:12341235, 12/625),\n",
       " (5:123412351245, 2/125)]"
      ]
     },
     "execution_count": 142,
     "metadata": {},
     "output_type": "execute_result"
    }
   ],
   "source": [
    "# K4\n",
    "FourGraphBlowupConstruction(\"5:1112222333344441111422241122113311442233224433441333\").subgraph_densities(5)"
   ]
  },
  {
   "cell_type": "code",
   "execution_count": 173,
   "metadata": {},
   "outputs": [
    {
     "data": {
      "text/plain": [
       "[(5:, 116/125),\n",
       " (5:1234123512451345, 3/625),\n",
       " (5:12341235, 6/625),\n",
       " (5:1234, 36/625)]"
      ]
     },
     "execution_count": 173,
     "metadata": {},
     "output_type": "execute_result"
    }
   ],
   "source": [
    "# K4\n",
    "FourGraphBlowupConstruction(\"5:11122223333444\").subgraph_densities(5)"
   ]
  },
  {
   "cell_type": "code",
   "execution_count": null,
   "metadata": {},
   "outputs": [],
   "source": []
  }
 ],
 "metadata": {
  "kernelspec": {
   "display_name": "SageMath 8.5",
   "language": "",
   "name": "sagemath"
  },
  "language_info": {
   "codemirror_mode": {
    "name": "ipython",
    "version": 2
   },
   "file_extension": ".py",
   "mimetype": "text/x-python",
   "name": "python",
   "nbconvert_exporter": "python",
   "pygments_lexer": "ipython2",
   "version": "2.7.15"
  }
 },
 "nbformat": 4,
 "nbformat_minor": 2
}
