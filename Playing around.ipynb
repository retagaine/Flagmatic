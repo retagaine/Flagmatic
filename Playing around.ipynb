{
 "cells": [
  {
   "cell_type": "code",
   "execution_count": 1,
   "metadata": {},
   "outputs": [
    {
     "name": "stderr",
     "output_type": "stream",
     "text": [
      "/Applications/SageMath/local/lib/python2.7/site-packages/sage/repl/ipython_kernel/__main__.py:1: DeprecationWarning: the file \"cdefs.pxi\" is deprecated, cimport the functions that you need\n",
      "See http://trac.sagemath.org/23855 for details.\n",
      "  from ipykernel.kernelapp import IPKernelApp\n"
     ]
    }
   ],
   "source": [
    "from flagmatic.all import *"
   ]
  },
  {
   "cell_type": "code",
   "execution_count": 8,
   "metadata": {},
   "outputs": [
    {
     "name": "stdout",
     "output_type": "stream",
     "text": [
      "Forbidding 3-sets from spanning exactly 0 edges.\n",
      "Generating graphs...\n",
      "Generated 14 graphs.\n",
      "Generating types and flags...\n",
      "Generated 1 types of order 1, with [5] flags of order 3.\n",
      "Generated 3 types of order 3, with [5, 6, 8] flags of order 4.\n",
      "Computing products....\n",
      "Determining which graphs appear in construction...\n",
      "Density of construction is 1/4.\n",
      "Found 1 zero eigenvectors for type 0.\n",
      "Found 1 zero eigenvectors for type 1.\n",
      "Found 2 zero eigenvectors for type 2.\n",
      "Found 1 zero eigenvectors for type 3.\n",
      "Writing SDP input file...\n",
      "Running SDP solver...\n",
      "Returncode is 0. Objective value is 0.25.\n",
      "Checking numerical bound...\n",
      "Bound of 1/4 appears to have been met.\n",
      "The following 5 graphs appear to be sharp:\n",
      "0.249999999022 : graph 0 (5:12132345)\n",
      "0.250001943984 : graph 1 (5:1213142345)\n",
      "0.249999999272 : graph 3 (5:121314232434)\n",
      "0.250005828659 : graph 5 (5:12131415232434)\n",
      "0.250000001234 : graph 13 (5:12131415232425343545)\n",
      "Type 0 (5 flags) blocks: [5] \n",
      "Type 1 (5 flags) blocks: [4, 1] \n",
      "Type 2 (6 flags) blocks: [4, 2] \n",
      "Type 3 (8 flags) blocks: [4, 4] \n",
      "Creating bases....\n",
      "Transforming matrices....\n",
      "Rounding matrices....\n",
      "Constructing R matrix....\n",
      "Constructing DR matrix...~~~~~~~~~~\n",
      "DR matrix has rank 3.\n",
      "All eigenvalues appear to be positive.\n",
      "Bound of 1/4 attained by:\n",
      "1/4 : graph 0 (5:12132345)\n",
      "1/4 : graph 1 (5:1213142345)\n",
      "1/4 : graph 3 (5:121314232434)\n",
      "1/4 : graph 5 (5:12131415232434)\n",
      "1/4 : graph 13 (5:12131415232425343545)\n",
      "Diagonalizing....\n",
      "Verifying....\n"
     ]
    }
   ],
   "source": [
    "problem = GraphProblem(5, forbid_induced=(3,0), density=(3,3), minimize=True)\n",
    "construction = GraphBlowupConstruction(\"2:1122\", phantom_edge=(1,2))\n",
    "problem.set_extremal_construction(construction)\n",
    "problem.solve_sdp()\n",
    "problem.make_exact()"
   ]
  },
  {
   "cell_type": "code",
   "execution_count": 5,
   "metadata": {},
   "outputs": [
    {
     "name": "stdout",
     "output_type": "stream",
     "text": [
      "Forbidding 4-sets from spanning at least 3 edges.\n",
      "Generating graphs...\n"
     ]
    },
    {
     "ename": "KeyboardInterrupt",
     "evalue": "",
     "output_type": "error",
     "traceback": [
      "\u001b[0;31m---------------------------------------------------------------------------\u001b[0m",
      "\u001b[0;31mKeyboardInterrupt\u001b[0m                         Traceback (most recent call last)",
      "\u001b[0;32m<ipython-input-5-230d7445e995>\u001b[0m in \u001b[0;36m<module>\u001b[0;34m()\u001b[0m\n\u001b[0;32m----> 1\u001b[0;31m \u001b[0mproblem\u001b[0m \u001b[0;34m=\u001b[0m \u001b[0mThreeGraphProblem\u001b[0m\u001b[0;34m(\u001b[0m\u001b[0mInteger\u001b[0m\u001b[0;34m(\u001b[0m\u001b[0;36m7\u001b[0m\u001b[0;34m)\u001b[0m\u001b[0;34m,\u001b[0m \u001b[0mforbid\u001b[0m\u001b[0;34m=\u001b[0m\u001b[0;34m(\u001b[0m\u001b[0mInteger\u001b[0m\u001b[0;34m(\u001b[0m\u001b[0;36m4\u001b[0m\u001b[0;34m)\u001b[0m\u001b[0;34m,\u001b[0m\u001b[0mInteger\u001b[0m\u001b[0;34m(\u001b[0m\u001b[0;36m3\u001b[0m\u001b[0;34m)\u001b[0m\u001b[0;34m)\u001b[0m\u001b[0;34m)\u001b[0m\u001b[0;34m\u001b[0m\u001b[0m\n\u001b[0m\u001b[1;32m      2\u001b[0m \u001b[0mconstruction\u001b[0m \u001b[0;34m=\u001b[0m \u001b[0mThreeGraphBlowupConstruction\u001b[0m\u001b[0;34m(\u001b[0m\u001b[0;34m\"3:112223331123\"\u001b[0m\u001b[0;34m)\u001b[0m\u001b[0;34m\u001b[0m\u001b[0m\n\u001b[1;32m      3\u001b[0m \u001b[0mproblem\u001b[0m\u001b[0;34m.\u001b[0m\u001b[0mset_extremal_construction\u001b[0m\u001b[0;34m(\u001b[0m\u001b[0mconstruction\u001b[0m\u001b[0;34m)\u001b[0m\u001b[0;34m\u001b[0m\u001b[0m\n\u001b[1;32m      4\u001b[0m \u001b[0mproblem\u001b[0m\u001b[0;34m.\u001b[0m\u001b[0msolve_sdp\u001b[0m\u001b[0;34m(\u001b[0m\u001b[0;34m)\u001b[0m\u001b[0;34m\u001b[0m\u001b[0m\n\u001b[1;32m      5\u001b[0m \u001b[0mproblem\u001b[0m\u001b[0;34m.\u001b[0m\u001b[0mmake_exact\u001b[0m\u001b[0;34m(\u001b[0m\u001b[0mrank\u001b[0m\u001b[0;34m=\u001b[0m\u001b[0mInteger\u001b[0m\u001b[0;34m(\u001b[0m\u001b[0;36m2\u001b[0m\u001b[0;34m)\u001b[0m\u001b[0;34m**\u001b[0m\u001b[0mInteger\u001b[0m\u001b[0;34m(\u001b[0m\u001b[0;36m100\u001b[0m\u001b[0;34m)\u001b[0m\u001b[0;34m)\u001b[0m\u001b[0;34m\u001b[0m\u001b[0m\n",
      "\u001b[0;32m/Applications/SageMath/local/lib/python2.7/site-packages/flagmatic/problem.pyc\u001b[0m in \u001b[0;36mThreeGraphProblem\u001b[0;34m(order, **kwargs)\u001b[0m\n\u001b[1;32m   2466\u001b[0m     \u001b[0msage\u001b[0m\u001b[0;34m:\u001b[0m \u001b[0mhelp\u001b[0m\u001b[0;34m(\u001b[0m\u001b[0mProblem\u001b[0m\u001b[0;34m)\u001b[0m\u001b[0;34m\u001b[0m\u001b[0m\n\u001b[1;32m   2467\u001b[0m     \"\"\"\n\u001b[0;32m-> 2468\u001b[0;31m     \u001b[0;32mreturn\u001b[0m \u001b[0mProblem\u001b[0m\u001b[0;34m(\u001b[0m\u001b[0mThreeGraphFlag\u001b[0m\u001b[0;34m,\u001b[0m \u001b[0morder\u001b[0m\u001b[0;34m,\u001b[0m \u001b[0;34m**\u001b[0m\u001b[0mkwargs\u001b[0m\u001b[0;34m)\u001b[0m\u001b[0;34m\u001b[0m\u001b[0m\n\u001b[0m\u001b[1;32m   2469\u001b[0m \u001b[0;34m\u001b[0m\u001b[0m\n\u001b[1;32m   2470\u001b[0m \u001b[0;34m\u001b[0m\u001b[0m\n",
      "\u001b[0;32m/Applications/SageMath/local/lib/python2.7/site-packages/flagmatic/problem.pyc\u001b[0m in \u001b[0;36m__init__\u001b[0;34m(self, flag_cls, order, forbid_induced, forbid, forbid_homomorphic_images, density, minimize, type_orders, types, max_flags, compute_products)\u001b[0m\n\u001b[1;32m    185\u001b[0m         \u001b[0;32mif\u001b[0m \u001b[0;32mnot\u001b[0m \u001b[0morder\u001b[0m \u001b[0;32mis\u001b[0m \u001b[0mNone\u001b[0m\u001b[0;34m:\u001b[0m\u001b[0;34m\u001b[0m\u001b[0m\n\u001b[1;32m    186\u001b[0m             self.generate_flags(order, type_orders=type_orders, types=types, max_flags=max_flags,\n\u001b[0;32m--> 187\u001b[0;31m                                 compute_products=compute_products)\n\u001b[0m\u001b[1;32m    188\u001b[0m \u001b[0;34m\u001b[0m\u001b[0m\n\u001b[1;32m    189\u001b[0m     \u001b[0;32mdef\u001b[0m \u001b[0mstate\u001b[0m\u001b[0;34m(\u001b[0m\u001b[0mself\u001b[0m\u001b[0;34m,\u001b[0m \u001b[0mstate_name\u001b[0m\u001b[0;34m=\u001b[0m\u001b[0mNone\u001b[0m\u001b[0;34m,\u001b[0m \u001b[0maction\u001b[0m\u001b[0;34m=\u001b[0m\u001b[0mNone\u001b[0m\u001b[0;34m)\u001b[0m\u001b[0;34m:\u001b[0m\u001b[0;34m\u001b[0m\u001b[0m\n",
      "\u001b[0;32m/Applications/SageMath/local/lib/python2.7/site-packages/flagmatic/problem.pyc\u001b[0m in \u001b[0;36mgenerate_flags\u001b[0;34m(self, order, type_orders, types, max_flags, compute_products)\u001b[0m\n\u001b[1;32m    403\u001b[0m         \u001b[0msys\u001b[0m\u001b[0;34m.\u001b[0m\u001b[0mstdout\u001b[0m\u001b[0;34m.\u001b[0m\u001b[0mwrite\u001b[0m\u001b[0;34m(\u001b[0m\u001b[0;34m\"Generating graphs...\\n\"\u001b[0m\u001b[0;34m)\u001b[0m\u001b[0;34m\u001b[0m\u001b[0m\n\u001b[1;32m    404\u001b[0m         self._graphs = self._flag_cls.generate_graphs(n, forbidden_edge_numbers=self._forbidden_edge_numbers,\n\u001b[0;32m--> 405\u001b[0;31m                                                       forbidden_graphs=self._forbidden_graphs, forbidden_induced_graphs=self._forbidden_induced_graphs)\n\u001b[0m\u001b[1;32m    406\u001b[0m         \u001b[0msys\u001b[0m\u001b[0;34m.\u001b[0m\u001b[0mstdout\u001b[0m\u001b[0;34m.\u001b[0m\u001b[0mwrite\u001b[0m\u001b[0;34m(\u001b[0m\u001b[0;34m\"Generated %d graphs.\\n\"\u001b[0m \u001b[0;34m%\u001b[0m \u001b[0mlen\u001b[0m\u001b[0;34m(\u001b[0m\u001b[0mself\u001b[0m\u001b[0;34m.\u001b[0m\u001b[0m_graphs\u001b[0m\u001b[0;34m)\u001b[0m\u001b[0;34m)\u001b[0m\u001b[0;34m\u001b[0m\u001b[0m\n\u001b[1;32m    407\u001b[0m \u001b[0;34m\u001b[0m\u001b[0m\n",
      "\u001b[0;32mflagmatic/three_graph_flag.pyx\u001b[0m in \u001b[0;36mflagmatic.three_graph_flag.ThreeGraphFlag.generate_graphs\u001b[0;34m()\u001b[0m\n",
      "\u001b[0;32mflagmatic/hypergraph_flag.pyx\u001b[0m in \u001b[0;36mflagmatic.hypergraph_flag.HypergraphFlag.generate_flags\u001b[0;34m()\u001b[0m\n",
      "\u001b[0;32m/Applications/SageMath/local/lib/python2.7/site-packages/sage/combinat/combination.pyc\u001b[0m in \u001b[0;36m_iterator\u001b[0;34m(self, items, len_items, n)\u001b[0m\n\u001b[1;32m    390\u001b[0m                 \u001b[0mrest\u001b[0m \u001b[0;34m=\u001b[0m \u001b[0mitems\u001b[0m\u001b[0;34m[\u001b[0m\u001b[0mi\u001b[0m\u001b[0;34m+\u001b[0m\u001b[0;36m1\u001b[0m\u001b[0;34m:\u001b[0m\u001b[0;34m]\u001b[0m\u001b[0;34m\u001b[0m\u001b[0m\n\u001b[1;32m    391\u001b[0m                 \u001b[0;32mfor\u001b[0m \u001b[0mc\u001b[0m \u001b[0;32min\u001b[0m \u001b[0mself\u001b[0m\u001b[0;34m.\u001b[0m\u001b[0m_iterator\u001b[0m\u001b[0;34m(\u001b[0m\u001b[0mrest\u001b[0m\u001b[0;34m,\u001b[0m \u001b[0mlen_items\u001b[0m\u001b[0;34m-\u001b[0m\u001b[0mi\u001b[0m\u001b[0;34m-\u001b[0m\u001b[0;36m1\u001b[0m\u001b[0;34m,\u001b[0m  \u001b[0mn\u001b[0m\u001b[0;34m-\u001b[0m\u001b[0;36m1\u001b[0m\u001b[0;34m)\u001b[0m\u001b[0;34m:\u001b[0m\u001b[0;34m\u001b[0m\u001b[0m\n\u001b[0;32m--> 392\u001b[0;31m                     \u001b[0;32myield\u001b[0m \u001b[0mv\u001b[0m \u001b[0;34m+\u001b[0m \u001b[0mc\u001b[0m\u001b[0;34m\u001b[0m\u001b[0m\n\u001b[0m\u001b[1;32m    393\u001b[0m \u001b[0;34m\u001b[0m\u001b[0m\n\u001b[1;32m    394\u001b[0m     \u001b[0;32mdef\u001b[0m \u001b[0m_iterator_zero\u001b[0m\u001b[0;34m(\u001b[0m\u001b[0mself\u001b[0m\u001b[0;34m)\u001b[0m\u001b[0;34m:\u001b[0m\u001b[0;34m\u001b[0m\u001b[0m\n",
      "\u001b[0;32msrc/cysignals/signals.pyx\u001b[0m in \u001b[0;36mcysignals.signals.python_check_interrupt\u001b[0;34m()\u001b[0m\n",
      "\u001b[0;32msrc/cysignals/signals.pyx\u001b[0m in \u001b[0;36mcysignals.signals.sig_raise_exception\u001b[0;34m()\u001b[0m\n",
      "\u001b[0;31mKeyboardInterrupt\u001b[0m: "
     ]
    }
   ],
   "source": [
    "problem = ThreeGraphProblem(7, forbid=(4,3))\n",
    "construction = ThreeGraphBlowupConstruction(\"3:112223331123\")\n",
    "problem.set_extremal_construction(construction)\n",
    "problem.solve_sdp()\n",
    "problem.make_exact(rank=2^100)"
   ]
  },
  {
   "cell_type": "code",
   "execution_count": 6,
   "metadata": {},
   "outputs": [
    {
     "name": "stdout",
     "output_type": "stream",
     "text": [
      "Forbidding 5:123234345451512 as a subgraph.\n",
      "Generating graphs...\n",
      "Generated 835 graphs.\n",
      "Generating types and flags...\n",
      "Generated 1 types of order 0, with [2] flags of order 3.\n",
      "Generated 1 types of order 2, with [12] flags of order 4.\n",
      "Generated 5 types of order 4, with [64, 64, 50, 39, 30] flags of order 5.\n",
      "Computing products.......\n",
      "Determining which graphs appear in construction...\n",
      "Warning: non-admissible graph 6:123124125126134135136245246256345346356 appears in construction!\n",
      "Warning: non-admissible graph 6:123124125126134135136145146256356456 appears in construction!\n",
      "Warning: non-admissible graph 6:123124125134135146156236245246256345346356 appears in construction!\n",
      "Density of construction is 13/81.\n",
      "Found 1 zero eigenvectors for type 0.\n",
      "Found 3 zero eigenvectors for type 1.\n",
      "Found 5 zero eigenvectors for type 2.\n",
      "Found 0 zero eigenvectors for type 3.\n",
      "Found 1 zero eigenvectors for type 4.\n",
      "Found 2 zero eigenvectors for type 5.\n",
      "Found 0 zero eigenvectors for type 6.\n",
      "Writing SDP input file...\n",
      "Running SDP solver...\n",
      "Returncode is 0. Objective value is 0.46828664.\n",
      "Checking numerical bound...\n",
      "Warning: bound of 13/81 appears to have not been met.\n",
      "Type 0 (2 flags) blocks: [2] \n",
      "Type 1 (12 flags) blocks: [9, 3] \n",
      "Type 2 (64 flags) blocks: [11, 53] \n",
      "Type 3 (64 flags) blocks: [20, 44] \n",
      "Type 4 (50 flags) blocks: [22, 28] \n",
      "Type 5 (39 flags) blocks: [13, 26] \n",
      "Type 6 (30 flags) blocks: [6, 24] \n",
      "Creating bases.......\n",
      "Transforming matrices.......\n",
      "Rounding matrices.......\n",
      "Constructing R matrix.......\n",
      "Constructing DR matrix.....~~~~~~~~~\n",
      "DR matrix has rank 5.\n",
      "Warning! Types [1, 2, 3, 4, 5, 6] have negative eigenvalues, so the bound is not valid.\n"
     ]
    }
   ],
   "source": [
    "C5 = ThreeGraphFlag(\"5:123234345451512\")\n",
    "problem = ThreeGraphProblem(6, forbid=C5)\n",
    "construction = ThreeGraphBlowupConstruction(\"3:112223331123\")\n",
    "problem.set_extremal_construction(construction)\n",
    "problem.solve_sdp()\n",
    "problem.make_exact(rank=2^20)"
   ]
  },
  {
   "cell_type": "code",
   "execution_count": 15,
   "metadata": {},
   "outputs": [
    {
     "name": "stdout",
     "output_type": "stream",
     "text": [
      "Forbidding 5-sets from spanning at least 4 edges.\n",
      "Generating graphs...\n",
      "Generated 4351 graphs.\n",
      "Generating types and flags...\n",
      "Generated 1 types of order 0, with [1] flags of order 3.\n",
      "Generated 1 types of order 2, with [2] flags of order 4.\n",
      "Generated 2 types of order 4, with [15, 11] flags of order 5.\n",
      "Computing products....\n",
      "Writing SDP input file...\n",
      "Running SDP solver...\n",
      "Returncode is 0. Objective value is 0.66666667.\n",
      "Checking numerical bound...\n",
      "No target bound to meet.\n",
      "Rounding matrices....\n",
      "Bound is 2/3 (0.6666666667).\n"
     ]
    }
   ],
   "source": [
    "problem = FourGraphProblem(6, forbid=(5, 4))\n",
    "problem.solve_sdp()\n",
    "problem.make_exact(rank=2^20)"
   ]
  },
  {
   "cell_type": "code",
   "execution_count": null,
   "metadata": {},
   "outputs": [],
   "source": []
  }
 ],
 "metadata": {
  "kernelspec": {
   "display_name": "SageMath 8.5",
   "language": "",
   "name": "sagemath"
  },
  "language_info": {
   "codemirror_mode": {
    "name": "ipython",
    "version": 2
   },
   "file_extension": ".py",
   "mimetype": "text/x-python",
   "name": "python",
   "nbconvert_exporter": "python",
   "pygments_lexer": "ipython2",
   "version": "2.7.15"
  }
 },
 "nbformat": 4,
 "nbformat_minor": 2
}
